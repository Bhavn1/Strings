{
 "cells": [
  {
   "cell_type": "markdown",
   "id": "bd7ac4cd",
   "metadata": {},
   "source": [
    "# Strings_Assignment"
   ]
  },
  {
   "cell_type": "markdown",
   "id": "e73bf0a2",
   "metadata": {},
   "source": [
    "# 1. Write a python program to convert a string to lower case"
   ]
  },
  {
   "cell_type": "code",
   "execution_count": null,
   "id": "867cf840",
   "metadata": {},
   "outputs": [],
   "source": [
    "# Lower case()"
   ]
  },
  {
   "cell_type": "code",
   "execution_count": 3,
   "id": "e69d0c56",
   "metadata": {},
   "outputs": [],
   "source": [
    "s=\"PYTHON\""
   ]
  },
  {
   "cell_type": "code",
   "execution_count": 5,
   "id": "d3ef0af3",
   "metadata": {},
   "outputs": [
    {
     "data": {
      "text/plain": [
       "'python'"
      ]
     },
     "execution_count": 5,
     "metadata": {},
     "output_type": "execute_result"
    }
   ],
   "source": [
    "s.lower()"
   ]
  },
  {
   "cell_type": "markdown",
   "id": "307eb9ed",
   "metadata": {},
   "source": [
    "# 2. Write a pytho to convert only odd indexed character to lower case"
   ]
  },
  {
   "cell_type": "code",
   "execution_count": 24,
   "id": "34b6e4a5",
   "metadata": {},
   "outputs": [
    {
     "name": "stdout",
     "output_type": "stream",
     "text": [
      "PYTHON\n",
      "PyThOn\n"
     ]
    }
   ],
   "source": [
    "s=input(\"\")\n",
    "t=\"\"\n",
    "for i in range(len(s)):\n",
    "    if i%2==0:\n",
    "        t=t+s[i].upper()\n",
    "    else:\n",
    "        t=t+s[i].lower()\n",
    "print(t)"
   ]
  },
  {
   "cell_type": "markdown",
   "id": "5e1d8c0c",
   "metadata": {},
   "source": [
    "# 3. Write a python program to convert only odd even indexed character to lower case"
   ]
  },
  {
   "cell_type": "code",
   "execution_count": 23,
   "id": "8ab260a9",
   "metadata": {},
   "outputs": [
    {
     "name": "stdout",
     "output_type": "stream",
     "text": [
      "PYTHON\n",
      "pYtHoN\n"
     ]
    }
   ],
   "source": [
    "s=input(\"\")\n",
    "t=\"\"\n",
    "for i in range(len(s)):\n",
    "    if i%2==0:\n",
    "        t=t+s[i].lower()\n",
    "    else:\n",
    "        t=t+s[i].upper()\n",
    "print(t)"
   ]
  },
  {
   "cell_type": "markdown",
   "id": "09366a80",
   "metadata": {},
   "source": [
    "# 4. Write a python program to convert only odd indexeed characters to upper case"
   ]
  },
  {
   "cell_type": "code",
   "execution_count": 21,
   "id": "10cb3820",
   "metadata": {},
   "outputs": [
    {
     "name": "stdout",
     "output_type": "stream",
     "text": [
      "python\n",
      "PyThOn\n"
     ]
    }
   ],
   "source": [
    "s=input(\"\")\n",
    "t=\"\"\n",
    "for i in range(len(s)):\n",
    "    if i%2==0:\n",
    "        t=t+s[i].upper()\n",
    "    else:\n",
    "        t=t+s[i].lower()\n",
    "print(t)"
   ]
  },
  {
   "cell_type": "markdown",
   "id": "b2aae415",
   "metadata": {},
   "source": [
    "# 5. Write  a python programe to convert only indexed character to upper case"
   ]
  },
  {
   "cell_type": "code",
   "execution_count": 25,
   "id": "beac229c",
   "metadata": {},
   "outputs": [
    {
     "name": "stdout",
     "output_type": "stream",
     "text": [
      "python\n",
      "pYtHoN\n"
     ]
    }
   ],
   "source": [
    "s=input(\"\")\n",
    "t=\"\"\n",
    "for i in range(len(s)):\n",
    "    if i%2==0:\n",
    "        t=t+s[i].lower()\n",
    "    else:\n",
    "        t=t+s[i].upper()\n",
    "print(t)"
   ]
  },
  {
   "cell_type": "markdown",
   "id": "4b841655",
   "metadata": {},
   "source": [
    "# 6.Write a python programe where you have different variable which contains your name,age,gender,phone number,fathers's name,and mother's name by using this variable creat a variable named bio-data where you will use all this variable"
   ]
  },
  {
   "cell_type": "code",
   "execution_count": null,
   "id": "639d0d10",
   "metadata": {},
   "outputs": [
    {
     "name": "stdout",
     "output_type": "stream",
     "text": [
      "My name is:bhavani\n",
      "my age is:20\n",
      "my phone number is:733733013\n",
      "my father's name isAshok\n"
     ]
    }
   ],
   "source": [
    "name=input(\"My name is:\") \n",
    "age=int(input(\"my age is:\"))\n",
    "phone_no=int(input(\"my phone number is:\"))\n",
    "father_name=input(\"my father's name is\")\n",
    "mother_name=input(\"my mother's name is\")\n",
    "print(bio_data)"
   ]
  },
  {
   "cell_type": "markdown",
   "id": "70fa2846",
   "metadata": {},
   "source": [
    "# 7. write a python program to count how many time\"@\" occured"
   ]
  },
  {
   "cell_type": "markdown",
   "id": "78137911",
   "metadata": {},
   "source": []
  },
  {
   "cell_type": "code",
   "execution_count": 27,
   "id": "df98c0da",
   "metadata": {},
   "outputs": [
    {
     "name": "stdout",
     "output_type": "stream",
     "text": [
      "bh@v@ni\n",
      "2\n"
     ]
    }
   ],
   "source": [
    "s=input(\"\")\n",
    "t=s.count(\"@\")\n",
    "print(t)"
   ]
  },
  {
   "cell_type": "markdown",
   "id": "9ad42cd6",
   "metadata": {},
   "source": [
    "# 8.Write a program to get only names from the string"
   ]
  },
  {
   "cell_type": "code",
   "execution_count": 29,
   "id": "925a1b52",
   "metadata": {},
   "outputs": [
    {
     "data": {
      "text/plain": [
       "'name1 ,name2 ,name3 '"
      ]
     },
     "execution_count": 29,
     "metadata": {},
     "output_type": "execute_result"
    }
   ],
   "source": [
    "a='name1.@gmail.com,name2.@gmail.com,name3.@gmail.com'\n",
    "b=a.split(\".@gmail.com\")\n",
    "c=\" \".join(b)\n",
    "c"
   ]
  },
  {
   "cell_type": "markdown",
   "id": "26d6640e",
   "metadata": {},
   "source": [
    "# 9.Write a programe to remove vowels from the entire alphabets"
   ]
  },
  {
   "cell_type": "code",
   "execution_count": 33,
   "id": "52200d2e",
   "metadata": {},
   "outputs": [
    {
     "data": {
      "text/plain": [
       "'bcdfghjklmnpqrstvwxyz'"
      ]
     },
     "execution_count": 33,
     "metadata": {},
     "output_type": "execute_result"
    }
   ],
   "source": [
    "a=\"abcdefghijklmnopqrstuvwxyz\"\n",
    "b=[\"a\",\"e\",\"i\",\"o\",\"u\"]\n",
    "s=[]\n",
    "for i in a:\n",
    "    if i not in b:\n",
    "        s.append(i)\n",
    "t=''.join(s)\n",
    "t"
   ]
  },
  {
   "cell_type": "markdown",
   "id": "d0d97138",
   "metadata": {},
   "source": [
    "# 10.Find all occurences of a substring in a given string by ignoring the case"
   ]
  },
  {
   "cell_type": "code",
   "execution_count": null,
   "id": "856fe65b",
   "metadata": {},
   "outputs": [],
   "source": []
  }
 ],
 "metadata": {
  "kernelspec": {
   "display_name": "Python 3 (ipykernel)",
   "language": "python",
   "name": "python3"
  },
  "language_info": {
   "codemirror_mode": {
    "name": "ipython",
    "version": 3
   },
   "file_extension": ".py",
   "mimetype": "text/x-python",
   "name": "python",
   "nbconvert_exporter": "python",
   "pygments_lexer": "ipython3",
   "version": "3.9.13"
  }
 },
 "nbformat": 4,
 "nbformat_minor": 5
}
